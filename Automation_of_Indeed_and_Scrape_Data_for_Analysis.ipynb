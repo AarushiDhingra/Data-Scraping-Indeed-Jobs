{
  "nbformat": 4,
  "nbformat_minor": 0,
  "metadata": {
    "kernelspec": {
      "display_name": "Python 3",
      "language": "python",
      "name": "python3"
    },
    "language_info": {
      "codemirror_mode": {
        "name": "ipython",
        "version": 3
      },
      "file_extension": ".py",
      "mimetype": "text/x-python",
      "name": "python",
      "nbconvert_exporter": "python",
      "pygments_lexer": "ipython3",
      "version": "3.7.6"
    },
    "colab": {
      "name": "9. Automation of Indeed and Scrape Data for Analysis.ipynb",
      "provenance": []
    }
  },
  "cells": [
    {
      "cell_type": "code",
      "metadata": {
        "id": "ft_U3LhCCHm3",
        "colab_type": "code",
        "colab": {}
      },
      "source": [
        "from selenium import webdriver\n",
        "from bs4 import BeautifulSoup\n",
        "from time import sleep"
      ],
      "execution_count": null,
      "outputs": []
    },
    {
      "cell_type": "code",
      "metadata": {
        "id": "p2050sCvCHm8",
        "colab_type": "code",
        "colab": {}
      },
      "source": [
        "driver = \"./chromedriver\""
      ],
      "execution_count": 2,
      "outputs": []
    },
    {
      "cell_type": "code",
      "metadata": {
        "id": "WqBRuL1xCHnD",
        "colab_type": "code",
        "colab": {}
      },
      "source": [
        "browser = webdriver.Chrome(\"/Users/prateekmishra/Desktop/chromedriver\")"
      ],
      "execution_count": null,
      "outputs": []
    },
    {
      "cell_type": "code",
      "metadata": {
        "id": "IkSUYrxQCHnG",
        "colab_type": "code",
        "colab": {}
      },
      "source": [
        "## Data we want Collect (Store)\n",
        "Titles = []\n",
        "Locations = []\n",
        "Companies = []\n",
        "Salary = []\n",
        "JobDetails = []\n",
        "\n",
        "from time import sleep"
      ],
      "execution_count": null,
      "outputs": []
    },
    {
      "cell_type": "code",
      "metadata": {
        "id": "EpYGgQRQCHnK",
        "colab_type": "code",
        "colab": {}
      },
      "source": [
        "for i in range(0, 50, 10):\n",
        "    browser.get(\"https://www.indeed.co.in/jobs?q=machine+learning&l=India&start={}\".format(i))\n",
        "    sleep(2)\n",
        "    while True:\n",
        "        try:\n",
        "            Cards = browser.find_elements_by_class_name(\"result\")\n",
        "            break\n",
        "        except:\n",
        "            popUp = browser.find_element_by_id(\"popover-x\")\n",
        "            popUp.click()\n",
        "            \n",
        "    \n",
        "    for Card in Cards:\n",
        "        details = BeautifulSoup(Card.get_attribute('innerHTML'), 'html.parser')\n",
        "        try:\n",
        "            title = details.find('a', class_ = 'jobtitle').text.replace(\"\\n\", \"\")\n",
        "            Titles.append(title)\n",
        "        except:\n",
        "            Titles.append(None)\n",
        "\n",
        "        try:\n",
        "            location = details.find(class_ = 'location').text.replace(\"\\n\", \"\")\n",
        "            Locations.append(location)\n",
        "        except:\n",
        "            Locations.append(None)\n",
        "\n",
        "        try:\n",
        "            company = details.find(class_ = 'company').text.replace(\"\\n\", \"\")\n",
        "            Companies.append(company)\n",
        "        except:\n",
        "            Companies.append(None)\n",
        "\n",
        "\n",
        "        try:\n",
        "            salary = details.find(class_ = 'salary').text.replace(\"\\n\", \"\")\n",
        "            Salary.append(salary)\n",
        "        except:\n",
        "            Salary.append(None)\n",
        "\n",
        "        \n",
        "            \n",
        "        while True:\n",
        "            try:\n",
        "                Card.click()\n",
        "                sleep(0.5)\n",
        "                try:\n",
        "                    Des = browser.find_element_by_id(\"vjs-desc\")\n",
        "                    DecHTML = BeautifulSoup(Des.get_attribute(\"innerHTML\"), \"html.parser\")\n",
        "                    all_li = DecHTML.find_all(\"li\")\n",
        "                    all_li_text = []\n",
        "                    for i in all_li:\n",
        "                        all_li_text.append(i.text.replace(\"\\n\", \"\"))\n",
        "                    all_li_text = \" \".join(all_li_text)\n",
        "                    JobDetails.append(all_li_text)\n",
        "                except:\n",
        "                    JobDetails.append(None)\n",
        "                break\n",
        "            except:\n",
        "                popUp = browser.find_element_by_id(\"popover-x\")\n",
        "                popUp.click()    \n",
        "            \n",
        "            \n",
        "        "
      ],
      "execution_count": null,
      "outputs": []
    },
    {
      "cell_type": "code",
      "metadata": {
        "id": "Zqp_LPJdCHnP",
        "colab_type": "code",
        "colab": {},
        "outputId": "e9ff1983-30da-4daf-e020-f012ff567f2e"
      },
      "source": [
        "Titles"
      ],
      "execution_count": null,
      "outputs": [
        {
          "output_type": "execute_result",
          "data": {
            "text/plain": [
              "['Software Developer - Machine Learning & AI',\n",
              " 'AI/Machine Learning Engineer',\n",
              " 'Machine Learning',\n",
              " 'Machine Learning Engineer',\n",
              " 'Computer Vision Research Engineer - Machine Learning',\n",
              " 'Machine Learning Engineer Intern',\n",
              " 'Software Engineer – Machine Learning',\n",
              " 'Machine Learning Engineer',\n",
              " 'Software Engineer, University Graduate, 2021 Start',\n",
              " 'Software Developer',\n",
              " 'Software Developer',\n",
              " 'Machine Learning Engineer',\n",
              " 'Software Developer (Artificial intelligence, Java, Python,MI...',\n",
              " 'MACHINE LEARNING ENGINEER',\n",
              " 'Machine Learning Engineer']"
            ]
          },
          "metadata": {
            "tags": []
          },
          "execution_count": 69
        }
      ]
    },
    {
      "cell_type": "code",
      "metadata": {
        "id": "2Qm_WGLeCHnY",
        "colab_type": "code",
        "colab": {}
      },
      "source": [
        "## Save Data In CSV File\n",
        "import pandas as pd\n",
        "df = pd.DataFrame({\n",
        "    \"Title\":Titles,\n",
        "    \"Company\":Companies,\n",
        "    \"Location\":Locations,\n",
        "    \"Salary\":Salary,\n",
        "    \"Details\":JobDetails\n",
        "})"
      ],
      "execution_count": null,
      "outputs": []
    },
    {
      "cell_type": "code",
      "metadata": {
        "id": "Y7E_3UXeCHnd",
        "colab_type": "code",
        "colab": {}
      },
      "source": [
        "df.to_csv(\"MachineLearningJobs.csv\")"
      ],
      "execution_count": null,
      "outputs": []
    },
    {
      "cell_type": "code",
      "metadata": {
        "id": "ZwVr9mRCCHnh",
        "colab_type": "code",
        "colab": {}
      },
      "source": [
        "1 - Machine Learning\n",
        "2 - Artificial Intelligence\n",
        "3 - Data Science\n",
        "4 - Data Analytic\n",
        "5 - Web Development\n",
        "6. Django Developer\n",
        "7. ReactJs "
      ],
      "execution_count": null,
      "outputs": []
    },
    {
      "cell_type": "code",
      "metadata": {
        "id": "AyVlM5MuCHnl",
        "colab_type": "code",
        "colab": {}
      },
      "source": [
        "### Basic of NLP, NLTK"
      ],
      "execution_count": null,
      "outputs": []
    },
    {
      "cell_type": "code",
      "metadata": {
        "id": "uwpbqmEKCHnp",
        "colab_type": "code",
        "colab": {}
      },
      "source": [
        "import pandas as pd\n",
        "import matplotlib.pyplot as plt"
      ],
      "execution_count": null,
      "outputs": []
    },
    {
      "cell_type": "code",
      "metadata": {
        "id": "FMnrFdXDCHnt",
        "colab_type": "code",
        "colab": {}
      },
      "source": [
        "df1 = pd.read_csv(\"ai.csv\")\n",
        "df2 = pd.read_csv(\"data_analyst.csv\")\n",
        "df3 = pd.read_csv(\"datascience2.csv\")\n",
        "df4 = pd.read_csv(\"machinelearning.csv\")"
      ],
      "execution_count": null,
      "outputs": []
    },
    {
      "cell_type": "code",
      "metadata": {
        "id": "o2my4XK1CHnw",
        "colab_type": "code",
        "colab": {}
      },
      "source": [
        "df = pd.concat([df1, df2, df3, df4], axis=0)"
      ],
      "execution_count": null,
      "outputs": []
    },
    {
      "cell_type": "code",
      "metadata": {
        "id": "YrWit1IbCHn2",
        "colab_type": "code",
        "colab": {}
      },
      "source": [
        "df = df.drop_duplicates()"
      ],
      "execution_count": null,
      "outputs": []
    },
    {
      "cell_type": "code",
      "metadata": {
        "id": "rQlc_4RnCHn6",
        "colab_type": "code",
        "colab": {}
      },
      "source": [
        "## Companies who have max jobs..."
      ],
      "execution_count": null,
      "outputs": []
    },
    {
      "cell_type": "code",
      "metadata": {
        "id": "6-pA4UzMCHn9",
        "colab_type": "code",
        "colab": {}
      },
      "source": [
        "group = df.groupby(\"Company\").count()[\"Title\"].sort_values(ascending = False)[:15]"
      ],
      "execution_count": null,
      "outputs": []
    },
    {
      "cell_type": "code",
      "metadata": {
        "id": "jgsVdmuJCHoA",
        "colab_type": "code",
        "colab": {},
        "outputId": "29992ff0-e20e-41a2-ae32-ccb92d75dac5"
      },
      "source": [
        "group"
      ],
      "execution_count": null,
      "outputs": [
        {
          "output_type": "execute_result",
          "data": {
            "text/plain": [
              "Company\n",
              "Micro Focus             28\n",
              "Telstra                 14\n",
              "TARGET                  13\n",
              "SAP                     12\n",
              "Covance                 11\n",
              "Paypal                  11\n",
              "Infosys                 11\n",
              "Akamai                  10\n",
              "JP Morgan Chase         10\n",
              "Wells Fargo              9\n",
              "HERE Technologies        8\n",
              "Fidelity Investments     8\n",
              "Pitney Bowes             7\n",
              "Accenture                7\n",
              "CommScope                6\n",
              "Name: Title, dtype: int64"
            ]
          },
          "metadata": {
            "tags": []
          },
          "execution_count": 33
        }
      ]
    },
    {
      "cell_type": "code",
      "metadata": {
        "id": "6hFNnRsyCHoF",
        "colab_type": "code",
        "colab": {},
        "outputId": "4516cf2d-cb2b-4898-9ae9-cb7e5d14f40c"
      },
      "source": [
        "group.plot(kind = \"barh\", figsize = (5, 8))"
      ],
      "execution_count": null,
      "outputs": [
        {
          "output_type": "execute_result",
          "data": {
            "text/plain": [
              "<matplotlib.axes._subplots.AxesSubplot at 0x11e3bb8d0>"
            ]
          },
          "metadata": {
            "tags": []
          },
          "execution_count": 37
        },
        {
          "output_type": "display_data",
          "data": {
            "image/png": "[encoded data removed]",
            "text/plain": [
              "<Figure size 360x576 with 1 Axes>"
            ]
          },
          "metadata": {
            "tags": [],
            "needs_background": "light"
          }
        }
      ]
    },
    {
      "cell_type": "code",
      "metadata": {
        "id": "1ZJ6qWk6CHoJ",
        "colab_type": "code",
        "colab": {},
        "outputId": "e6c19040-093d-425d-88f9-84b03057b7cc"
      },
      "source": [
        "df.keys()"
      ],
      "execution_count": null,
      "outputs": [
        {
          "output_type": "execute_result",
          "data": {
            "text/plain": [
              "Index(['Unnamed: 0', 'Title', 'Location', 'Company', 'Salary', 'Sponsored',\n",
              "       'Description'],\n",
              "      dtype='object')"
            ]
          },
          "metadata": {
            "tags": []
          },
          "execution_count": 38
        }
      ]
    },
    {
      "cell_type": "code",
      "metadata": {
        "id": "KeE6oQlxCHoM",
        "colab_type": "code",
        "colab": {}
      },
      "source": [
        "###NLTK - NLP Concept (Stop Words..)"
      ],
      "execution_count": null,
      "outputs": []
    },
    {
      "cell_type": "code",
      "metadata": {
        "id": "GlpkBWkRCHoP",
        "colab_type": "code",
        "colab": {}
      },
      "source": [
        "import nltk\n",
        "from nltk import word_tokenize, sent_tokenize\n",
        "from nltk.corpus import stopwords\n",
        "stop_words = stopwords.words(\"english\")"
      ],
      "execution_count": null,
      "outputs": []
    },
    {
      "cell_type": "code",
      "metadata": {
        "id": "nMCtRjGPCHoU",
        "colab_type": "code",
        "colab": {}
      },
     
      "outputs": []
    },
    {
      "cell_type": "code",
      "metadata": {
        "id": "BPMickSACHoZ",
        "colab_type": "code",
        "colab": {}
      },
      "source": [
        "def CleanData(desc):\n",
        "    words = word_tokenize(str(desc))\n",
        "    imp_words = []\n",
        "    for word in words:\n",
        "        lower = word.lower()\n",
        "        if lower not in stop_words:\n",
        "            imp_words.append(lower)\n",
        "\n",
        "    return imp_words\n",
        "        "
      ],
      "execution_count": null,
      "outputs": []
    },
    {
      "cell_type": "code",
      "metadata": {
        "id": "DXl1DEAvCHoc",
        "colab_type": "code",
        "colab": {}
      },
      "source": [
        "dfDes = df.Description.dropna()"
      ],
      "execution_count": null,
      "outputs": []
    },
    {
      "cell_type": "code",
      "metadata": {
        "id": "PFTDUanaCHoi",
        "colab_type": "code",
        "colab": {}
      },
      "source": [
        "tags = dfDes.apply(CleanData)"
      ],
      "execution_count": null,
      "outputs": []
    },
    {
      "cell_type": "code",
      "metadata": {
        "id": "Xnjz1j4KCHom",
        "colab_type": "code",
        "colab": {}
      },
      "source": [
        "from collections import Counter"
      ],
      "execution_count": null,
      "outputs": []
    },
    {
      "cell_type": "code",
      "metadata": {
        "id": "7Kj7OmPaCHor",
        "colab_type": "code",
        "colab": {}
      },
      "source": [
        "result = tags.apply(Counter).sum().items()"
      ],
      "execution_count": null,
      "outputs": []
    },
    {
      "cell_type": "code",
      "metadata": {
        "id": "tGOqOQ2YCHox",
        "colab_type": "code",
        "colab": {}
      },
      "source": [
        "sample = [('vendor', 52),\n",
        "            ('master', 134),\n",
        "            ('data', 5659),\n",
        "            ('analyst', 332),\n",
        "            ('part', 340),\n",
        "            ('global', 453),\n",
        "            ('team', 1741)\n",
        "         ]"
      ],
      "execution_count": null,
      "outputs": []
    },
    {
      "cell_type": "code",
      "metadata": {
        "id": "psXvi1JZCHo8",
        "colab_type": "code",
        "colab": {}
      },
      "source": [
        "result = sorted(result, key = lambda s: s[1], reverse = True)"
      ],
      "execution_count": null,
      "outputs": []
    },
    {
      "cell_type": "code",
      "metadata": {
        "id": "-3wac-ynCHo-",
        "colab_type": "code",
        "colab": {}
      },
      "source": [
        "resultData = pd.Series({\n",
        "    k:v for k,v in result\n",
        "})"
      ],
      "execution_count": null,
      "outputs": []
    },
    {
      "cell_type": "code",
      "metadata": {
        "id": "Ckyl3O7FCHpC",
        "colab_type": "code",
        "colab": {},
        "outputId": "92417f3c-f31b-41e2-c052-634b2b660208"
      },
      "source": [
        "resultData"
      ],
      "execution_count": null,
      "outputs": [
        {
          "output_type": "execute_result",
          "data": {
            "text/plain": [
              ",                 23692\n",
              ".                 13728\n",
              "data               5659\n",
              ":                  5065\n",
              "experience         3789\n",
              "                  ...  \n",
              "nosqldatabases        1\n",
              "neuralnetworks        1\n",
              "pcfg                  1\n",
              "co-reference          1\n",
              "memm                  1\n",
              "Length: 14936, dtype: int64"
            ]
          },
          "metadata": {
            "tags": []
          },
          "execution_count": 99
        }
      ]
    },
    {
      "cell_type": "code",
      "metadata": {
        "id": "RHgn36bDCHpK",
        "colab_type": "code",
        "colab": {}
      },
      "source": [
        "skills = [\"django\", \"opencv\", \"pandas\", \"math\", \"nltk\"]"
      ],
      "execution_count": null,
      "outputs": []
    },
    {
      "cell_type": "code",
      "metadata": {
        "id": "OIr5g64oCHpM",
        "colab_type": "code",
        "colab": {},
        "outputId": "709df7ad-5cdd-44c4-f6c7-af2e643e968e"
      },
      "source": [
        "Filter = resultData.filter(items=skills)\n",
        "Filter.plot(kind = \"bar\", figsize = (10, 5))\n",
        "plt.show()"
      ],
      "execution_count": null,
      "outputs": [
        {
          "output_type": "display_data",
          "data": {
            "image/png": "[encoded data removed]",
            "text/plain": [
              "<Figure size 720x360 with 1 Axes>"
            ]
          },
          "metadata": {
            "tags": [],
            "needs_background": "light"
          }
        }
      ]
    },
    {
      "cell_type": "code",
      "metadata": {
        "id": "XkYJwESsCHpP",
        "colab_type": "code",
        "colab": {},
        "outputId": "195b74b8-c8b8-4cdc-d939-7461314b73b1"
      },
      "source": [
        "Filter"
      ],
      "execution_count": null,
      "outputs": [
        {
          "output_type": "execute_result",
          "data": {
            "text/plain": [
              "django    19\n",
              "opencv    16\n",
              "pandas    49\n",
              "math      77\n",
              "nltk      12\n",
              "dtype: int64"
            ]
          },
          "metadata": {
            "tags": []
          },
          "execution_count": 110
        }
      ]
    }
  ]
}
